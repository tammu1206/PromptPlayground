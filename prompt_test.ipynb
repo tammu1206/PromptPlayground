{
 "cells": [
  {
   "cell_type": "code",
   "execution_count": 35,
   "id": "6437cc37-cfe7-4fe9-898b-11e16ff9688b",
   "metadata": {},
   "outputs": [],
   "source": [
    "import requests\n",
    "import os\n",
    "from dotenv import load_dotenv\n",
    "\n",
    "load_dotenv()\n",
    "api_key = os.getenv(\"OPENROUTER_API_KEY\")\n",
    "\n",
    "headers = {\n",
    "    \"Authorization\": f\"Bearer {api_key}\",\n",
    "    \"Content-Type\": \"application/json\",\n",
    "    \"HTTP-Referer\": \"https://localhost\",\n",
    "    \"X-Title\": \"Prompt Playground\"\n",
    "}\n",
    "\n",
    "def ask_openrouter(prompt, model=\"mistralai/mistral-7b-instruct\"):\n",
    "    url = \"https://openrouter.ai/api/v1/chat/completions\"\n",
    "    payload = {\n",
    "        \"model\": model,\n",
    "        \"messages\": [\n",
    "            {\"role\": \"system\", \"content\": \"You're a helpful assistant.\"},\n",
    "            {\"role\": \"user\", \"content\": prompt}\n",
    "        ],\n",
    "        \"temperature\": 0.8\n",
    "    }\n",
    "\n",
    "    response = requests.post(url, headers=headers, json=payload)\n",
    "\n",
    "    if response.status_code != 200:\n",
    "        print(\"❌ Error:\", response.status_code, response.text)\n",
    "        return \"API Error\"\n",
    "\n",
    "    return response.json()[\"choices\"][0][\"message\"][\"content\"]"
   ]
  },
  {
   "cell_type": "code",
   "execution_count": 37,
   "id": "d3955407-fe31-4124-a47e-a93064738bac",
   "metadata": {},
   "outputs": [],
   "source": [
    "# Safe model list\n",
    "models = [\n",
    "    \"mistralai/mistral-7b-instruct\",\n",
    "    \"meta-llama/llama-3-8b-instruct\",\n",
    "    \"openchat/openchat-7b\",\n",
    "    \"nousresearch/nous-hermes-llama2-13b\"\n",
    "]"
   ]
  },
  {
   "cell_type": "code",
   "execution_count": 39,
   "id": "11485484-d577-47bb-b95b-0a945b3a27a6",
   "metadata": {},
   "outputs": [],
   "source": [
    "prompt_styles = {\n",
    "    \"sarcastic\": \"Respond sarcastically: {prompt}\",\n",
    "    \"shakespeare\": \"Answer in Shakespearean English: {prompt}\",\n",
    "    \"coder\": \"Explain like a Python developer: {prompt}\",\n",
    "    \"funny\": \"Give a funny answer: {prompt}\",\n",
    "    \"default\": \"{prompt}\"\n",
    "}\n",
    "\n",
    "def build_prompt(user_prompt, style):\n",
    "    return prompt_styles.get(style, \"{prompt}\").format(prompt=user_prompt)"
   ]
  },
  {
   "cell_type": "code",
   "execution_count": 41,
   "id": "f3847ff2-6dc4-4312-9157-c0749d2e0aaf",
   "metadata": {},
   "outputs": [
    {
     "name": "stdout",
     "output_type": "stream",
     "text": [
      "* Running on local URL:  http://127.0.0.1:7863\n",
      "\n",
      "To create a public link, set `share=True` in `launch()`.\n"
     ]
    },
    {
     "data": {
      "text/html": [
       "<div><iframe src=\"http://127.0.0.1:7863/\" width=\"100%\" height=\"500\" allow=\"autoplay; camera; microphone; clipboard-read; clipboard-write;\" frameborder=\"0\" allowfullscreen></iframe></div>"
      ],
      "text/plain": [
       "<IPython.core.display.HTML object>"
      ]
     },
     "metadata": {},
     "output_type": "display_data"
    },
    {
     "data": {
      "text/plain": []
     },
     "execution_count": 41,
     "metadata": {},
     "output_type": "execute_result"
    }
   ],
   "source": [
    "import gradio as gr\n",
    "\n",
    "def chat_app(user_input, style):\n",
    "    styled_prompt = build_prompt(user_input, style)\n",
    "    return ask_openrouter(styled_prompt)\n",
    "\n",
    "gr.Interface(\n",
    "    fn=chat_app,\n",
    "    inputs=[\n",
    "        gr.Textbox(label=\"Your Prompt\"),\n",
    "        gr.Dropdown(label=\"Response Style\", choices=[\"default\", \"sarcastic\", \"shakespeare\", \"coder\", \"funny\"])\n",
    "    ],\n",
    "    outputs=\"text\",\n",
    "    title=\"Prompt Engineering Playground 💥\",\n",
    "    description=\"Test prompts with different styles using free OpenRouter LLMs\"\n",
    ").launch()"
   ]
  },
  {
   "cell_type": "code",
   "execution_count": null,
   "id": "05bcba40-93dd-4c2e-823b-1270fa77ef6e",
   "metadata": {},
   "outputs": [],
   "source": []
  }
 ],
 "metadata": {
  "kernelspec": {
   "display_name": "Python [conda env:base] *",
   "language": "python",
   "name": "conda-base-py"
  },
  "language_info": {
   "codemirror_mode": {
    "name": "ipython",
    "version": 3
   },
   "file_extension": ".py",
   "mimetype": "text/x-python",
   "name": "python",
   "nbconvert_exporter": "python",
   "pygments_lexer": "ipython3",
   "version": "3.12.7"
  }
 },
 "nbformat": 4,
 "nbformat_minor": 5
}
